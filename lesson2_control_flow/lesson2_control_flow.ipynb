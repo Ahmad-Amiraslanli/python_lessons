{
 "cells":[
  {
   "cell_type":"markdown",
   "source":[
    "\n",
    "<h1 style='text-align: center;'> Introduction to Control Flow <\/h1>\n",
    "\n",
    "Imagine waking up in the morning.\n",
    "\n",
    "You wake up and think, “Ugh. Is it a weekday?”\n",
    "\n",
    "If so, you have to get up and get dressed and get ready for work or school. If not, you can sleep in a bit longer and catch a couple extra Z’s. But alas, it is a weekday, so you are up and dressed and you go to look outside, “What’s the weather like? Do I need an umbrella?”\n",
    "\n",
    "These questions and decisions control the flow of your morning, each step and result is a product of the conditions of the day and your surroundings. Your computer, just like you, goes through a similar flow every time it executes code. A program will run (wake up) and start moving through its checklists, is this condition met, is that condition met, okay let’s execute this code and return that value.\n",
    "\n",
    "This is the *control flow* of your program. In Python, your script will execute from the top down, until there is nothing left to run. It is your job to include gateways, known as [conditional statements](https:\/\/www.codecademy.com\/resources\/docs\/python\/conditionals?page_ref=catalog), to tell the computer when it should execute certain blocks of code. If these conditions are met, then run this function.\n",
    "\n",
    "Over the course of this lesson, you will learn how to build conditional statements using boolean expressions, and manage the control flow in your code."
   ],
   "attachments":{
    
   },
   "metadata":{
    "datalore":{
     "node_id":"orLNtPwV0qjvmjnqYR9Ovo",
     "type":"MD",
     "hide_input_from_viewers":true,
     "hide_output_from_viewers":true
    }
   }
  },
  {
   "cell_type":"markdown",
   "source":[
    "![control_flow](https:\/\/raw.githubusercontent.com\/Ahmad-Amiraslanli\/python_lessons\/main\/lesson2_control_flow\/control_flow.png)"
   ],
   "attachments":{
    
   },
   "metadata":{
    "datalore":{
     "node_id":"mYjwGInHbkjA9Vc4XwxEvv",
     "type":"MD",
     "hide_input_from_viewers":true,
     "hide_output_from_viewers":true
    }
   }
  },
  {
   "cell_type":"markdown",
   "source":[
    "<h1 style='text-align: center;'> Boolean Expressions <\/h1>\n",
    "\n",
    "In order to build control flow into our program, we want to be able to check if something is true or not. A boolean expression is a statement that can either be `True` or `False`.\n",
    "\n",
    "Let’s go back to the ‘waking up’ example. The first question, “Is today a weekday?” can be written as a boolean expression:\n",
    "\n",
    "`Today is a weekday.`\n",
    "\n",
    "This expression can be `True` if today is Tuesday, or it can be `False` if today is Saturday. There are no other options.\n",
    "\n",
    "Consider the phrase:\n",
    "\n",
    "`Friday is the best day of the week.`\n",
    "\n",
    "Is this a boolean expression?\n",
    "\n",
    "No, this statement is an opinion and is not objectively `True` or `False`. Someone else might say that “Wednesday is the best weekday,” and their statement would be no less `True` or `False` than the one above since there is no objective answer to what the best day of the week is.\n",
    "\n",
    "How about the phrase:\n",
    "\n",
    "`Sunday starts with the letter 'C'.`\n",
    "\n",
    "Is this a boolean expression?\n",
    "\n",
    "Yes! This expression can only be `True` or `False`, which makes it a boolean expression. Even though the statement itself is false (Sunday starts with the letter ‘C’), it is still a boolean expression."
   ],
   "attachments":{
    
   },
   "metadata":{
    "datalore":{
     "node_id":"2yo1AhuW0mWEXbODydMPX3",
     "type":"MD",
     "hide_input_from_viewers":true,
     "hide_output_from_viewers":true
    }
   }
  },
  {
   "cell_type":"markdown",
   "source":[
    "<ins>**Instructions**<ins>\n",
    "\n",
    "1)Determine if the following statements are boolean expressions or not. If they are, set the matching variable to the right to `\"Yes\"` and if not set the variable to `\"No\"`. Here’s an example of what to do:\n",
    "\n",
    "Example statement:\n",
    "\n",
    "My dog is the cutest dog in the world.\n",
    "\n",
    "This is an opinion and not a boolean expression, so you would set `example_statement` to `\"No\"` in the editor to the right. Okay, now it’s your turn:\n",
    "\n",
    "Statement one:\n",
    "\n",
    "`Dogs are mammals.`\n",
    "\n",
    "Statement two:\n",
    "\n",
    "`My dog is named Pavel.`\n",
    "\n",
    "Statement three:\n",
    "\n",
    "`Dogs make the best pets.`\n",
    "\n",
    "Statement four:\n",
    "\n",
    "`Cats are female dogs.`"
   ],
   "attachments":{
    
   },
   "metadata":{
    "datalore":{
     "node_id":"BSPbDVoBvQnc2HokebhSDK",
     "type":"MD",
     "hide_input_from_viewers":true,
     "hide_output_from_viewers":true
    }
   }
  },
  {
   "cell_type":"code",
   "source":[
    "example_statement = \"No\"\n",
    "\n",
    "statement_one =\n",
    "\n",
    "statement_two =\n",
    "\n",
    "statement_three =\n",
    "\n",
    "statement_four ="
   ],
   "execution_count":2,
   "outputs":[
    
   ],
   "metadata":{
    "datalore":{
     "node_id":"XJxwFPxH1sakHoRQLQjt6t",
     "type":"CODE",
     "hide_input_from_viewers":true,
     "hide_output_from_viewers":true
    }
   }
  },
  {
   "cell_type":"code",
   "source":[
    "example_statement = \"No\"\n",
    "\n",
    "statement_one = \"Yes\"\n",
    "\n",
    "statement_two = \"Yes\"\n",
    "\n",
    "statement_three = \"No\"\n",
    "\n",
    "statement_four = \"Yes\""
   ],
   "execution_count":null,
   "outputs":[
    
   ],
   "metadata":{
    "datalore":{
     "node_id":"1riCI45LBsO6cJuu4i28Ks",
     "type":"CODE",
     "hide_input_from_viewers":true,
     "hide_output_from_viewers":true
    }
   }
  },
  {
   "cell_type":"markdown",
   "source":[
    "<h1 style='text-align: center;'> Relational Operators: Equals and Not Equals <\/h1>\n",
    "\n",
    "Now that we understand what boolean expressions are, let’s learn to create them in Python. We can create a boolean expression by using *relational operators*.\n",
    "\n",
    "Relational operators compare two items and return either True or False. For this reason, you will sometimes hear them called [comparators](https:\/\/www.codecademy.com\/resources\/docs\/python\/operators?page_req=catalog).\n",
    "\n",
    "The two relational operators we’ll cover first are:\n",
    "\n",
    "- Equals: `==`\n",
    "\n",
    "- Not equals: `!=`\n",
    "\n",
    "These operators compare two items and return `True` or `False` if they are equal or not.\n",
    "\n",
    "We can create boolean expressions by comparing two values using these operators:\n",
    "\n",
    "`1 == 1     # True`\n",
    "\n",
    "`2 != 4     # True`\n",
    " \n",
    "`3 == 5     # False`\n",
    " \n",
    "`'7' == 7   # False`\n",
    "\n",
    "Each of these is an example of a boolean expression.\n",
    "\n",
    "Why is the last statement false? The `''` marks in `'7'` make it a string, which is different from the integer value `7`, so they are not equal. When using relational operators it is important to always be mindful of type."
   ],
   "attachments":{
    
   },
   "metadata":{
    "datalore":{
     "node_id":"bxRe8IKTILLGOn3z8RXOhp",
     "type":"MD",
     "hide_input_from_viewers":true,
     "hide_output_from_viewers":true
    }
   }
  },
  {
   "cell_type":"markdown",
   "source":[
    "<ins>**Instructions**<ins>\n",
    "\n",
    "1)Determine if the following boolean expressions are True or False. Input your answer as True or False in the appropriate variable to the right.\n",
    "\n",
    "Statement one:\n",
    "\n",
    "`(5 * 2) - 1 == 8 + 1`\n",
    "\n",
    "Statement two:\n",
    "\n",
    "`13 - 6 != (3 * 2) + 1`\n",
    "\n",
    "Statement three:\n",
    "\n",
    "`3 * (2 - 1) == 4 - 1`"
   ],
   "attachments":{
    
   },
   "metadata":{
    "datalore":{
     "node_id":"wKNLBX1wTastwm1PLWObj0",
     "type":"MD",
     "hide_input_from_viewers":true,
     "hide_output_from_viewers":true
    }
   }
  },
  {
   "cell_type":"code",
   "source":[
    "statement_one =\n",
    "\n",
    "statement_two =\n",
    "\n",
    "statement_three ="
   ],
   "execution_count":null,
   "outputs":[
    
   ],
   "metadata":{
    "datalore":{
     "node_id":"hWzSU2SJYqxZXnR8wPyM8R",
     "type":"CODE",
     "hide_input_from_viewers":true,
     "hide_output_from_viewers":true
    }
   }
  },
  {
   "cell_type":"code",
   "source":[
    "statement_one = True\n",
    "\n",
    "statement_two = False\n",
    "\n",
    "statement_three = True"
   ],
   "execution_count":null,
   "outputs":[
    
   ],
   "metadata":{
    "datalore":{
     "node_id":"kbhSsiq8L4q6VqZISMfUaW",
     "type":"CODE",
     "hide_input_from_viewers":true,
     "hide_output_from_viewers":true
    }
   }
  },
  {
   "cell_type":"markdown",
   "source":[
    "<h1 style='text-align: center;'> Boolean Variables <\/h1>\n",
    "\n",
    "Before we go any further, let’s talk a little bit about `True` and `False`. You may notice that when you type them in the code editor (with uppercase T and F), they appear in a different color than variables or strings. This is because `True` and `False` are their own special type: **bool**.\n",
    "\n",
    "`True` and `False` are the only `bool` types, and any variable that is assigned one of these values is called a *boolean variable*.\n",
    "\n",
    "Boolean variables can be created in several ways. The easiest way is to simply assign `True` or `False` to a variable:\n",
    "\n",
    "`set_to_true = True`\n",
    "\n",
    "`set_to_false = False`\n",
    "\n",
    "You can also set a variable equal to a boolean expression.\n",
    "\n",
    "`bool_one = 5 != 7 `\n",
    "\n",
    "`bool_two = 1 + 1 != 2`\n",
    "\n",
    "`bool_three = 3 * 3 == 9`\n",
    "\n",
    "These variables now contain boolean values, so when you reference them they will only return the `True` or `False` values of the expression they were assigned.\n",
    "\n",
    "`print(bool_one)    # True`\n",
    " \n",
    "`print(bool_two)    # False`\n",
    " \n",
    "`print(bool_three)  # True`"
   ],
   "attachments":{
    
   },
   "metadata":{
    "datalore":{
     "node_id":"8u7SDFhD74F2wnp3eLagS5",
     "type":"MD",
     "hide_input_from_viewers":true,
     "hide_output_from_viewers":true
    }
   }
  },
  {
   "cell_type":"markdown",
   "source":[
    "<ins>**Instructions**<ins>\n",
    "\n",
    "1)Create a variable named `my_baby_bool` and set it equal to `\"true\"`."
   ],
   "attachments":{
    
   },
   "metadata":{
    "datalore":{
     "node_id":"a0rDxylMHgh0m94jXolXVo",
     "type":"MD",
     "hide_input_from_viewers":true,
     "hide_output_from_viewers":true
    }
   }
  },
  {
   "cell_type":"markdown",
   "source":[
    "2)Check the type of `my_baby_bool` using `type(my_baby_bool)`.\n",
    "\n",
    "You’ll have to print it to get the results to display in the terminal."
   ],
   "attachments":{
    
   },
   "metadata":{
    "datalore":{
     "node_id":"w53Oeqps9s4EQMY6RFgRVa",
     "type":"MD",
     "hide_input_from_viewers":true,
     "hide_output_from_viewers":true
    }
   }
  },
  {
   "cell_type":"markdown",
   "source":[
    "3)It’s not a boolean variable! Boolean values `True` and `False` always need to be capitalized and do not have quotation marks.\n",
    "\n",
    "Create a variable named `my_baby_bool_two` and set it equal to `True`."
   ],
   "attachments":{
    
   },
   "metadata":{
    "datalore":{
     "node_id":"ZpdPbq7chaAAT1xvQepESr",
     "type":"MD",
     "hide_input_from_viewers":true,
     "hide_output_from_viewers":true
    }
   }
  },
  {
   "cell_type":"markdown",
   "source":[
    "4)Check the type of `my_baby_bool_two` and make sure you successfully created a boolean variable.\n",
    "\n",
    "You’ll have to print it to get the results to display in the terminal."
   ],
   "attachments":{
    
   },
   "metadata":{
    "datalore":{
     "node_id":"RQTAwOYv2pBvyvEJl1snW4",
     "type":"MD",
     "hide_input_from_viewers":true,
     "hide_output_from_viewers":true
    }
   }
  },
  {
   "cell_type":"code",
   "source":[
    
   ],
   "execution_count":null,
   "outputs":[
    
   ],
   "metadata":{
    "datalore":{
     "node_id":"y1EHX4Kia8hjWsxr4m0bWY",
     "type":"CODE",
     "hide_input_from_viewers":true,
     "hide_output_from_viewers":true
    }
   }
  },
  {
   "cell_type":"code",
   "source":[
    "my_baby_bool = \"true\"\n",
    "\n",
    "print(type(my_baby_bool))\n",
    "\n",
    "my_baby_bool_two = True\n",
    "\n",
    "print(type(my_baby_bool_two))"
   ],
   "execution_count":null,
   "outputs":[
    
   ],
   "metadata":{
    "datalore":{
     "node_id":"4OKT84IF3Nv1EdEoS8ESsA",
     "type":"CODE",
     "hide_input_from_viewers":true,
     "hide_output_from_viewers":true
    }
   }
  },
  {
   "cell_type":"markdown",
   "source":[
    "<h1 style='text-align: center;'> If Statement <\/h1>\n",
    "\n",
    "“Okay okay okay, boolean variables, boolean expressions, blah blah blah, I thought I was learning how to build control flow into my code!”\n",
    "\n",
    "You are, I promise you!\n",
    "\n",
    "Understanding boolean variables and expressions is essential because they are the building blocks of [conditional statements](https:\/\/www.codecademy.com\/resources\/docs\/python\/conditionals?page_ref=catalog).\n",
    "\n",
    "Recall the waking-up example from the beginning of this lesson. The decision-making process of “Is it raining? If so, bring an umbrella” is a conditional statement.\n",
    "\n",
    "Here it is phrased in a different way:\n",
    "\n",
    "`If it is raining, then bring an umbrella.`\n",
    "\n",
    "Can you pick out the boolean expression here?\n",
    "\n",
    "Right, `\"it is raining\"` is the boolean expression, and this conditional statement is checking to see if it is True.\n",
    "\n",
    "If `\"it is raining\" == True` then the rest of the conditional statement will be executed and you will bring an umbrella.\n",
    "\n",
    "This is the form of a conditional statement:\n",
    "\n",
    "`If [it is raining], then [bring an umbrella]`\n",
    "\n",
    "In Python, it looks very similar:\n",
    "\n",
    "    if is_raining:\n",
    "        print(\"bring an umbrella\")\n",
    "\n",
    "You’ll notice that instead of “then” we have a colon, `:`. That tells the computer that what’s coming next is what should be executed if the condition is met.\n",
    "\n",
    "Let’s take a look at another conditional statement:\n",
    "\n",
    "    if 2 == 4 - 2: \n",
    "        print(\"apple\")\n",
    "\n",
    "Will this code print `apple` to the terminal?\n",
    "\n",
    "Yes, because the condition of the `if` statement, `2 == 4 - 2` is `True`.\n",
    "\n",
    "Let’s work through a couple more together."
   ],
   "attachments":{
    
   },
   "metadata":{
    "datalore":{
     "node_id":"8qkmIWCmUyXvWguODGd9h7",
     "type":"MD",
     "hide_input_from_viewers":true,
     "hide_output_from_viewers":true
    }
   }
  },
  {
   "cell_type":"markdown",
   "source":[
    "<ins>**Instructions**<ins>\n",
    "\n",
    "1)There is an `if` statement. I wrote this because my coworker Dave kept using my computer without permission and he is a real doofus. If the `user_name` is Dave, it tells him to stay off my computer.\n",
    "\n",
    "Enter a user name in the field for `user_name` and try running the program."
   ],
   "attachments":{
    
   },
   "metadata":{
    "datalore":{
     "node_id":"K8HklzF3Z8PRM21zmv9qZp",
     "type":"MD",
     "hide_input_from_viewers":true,
     "hide_output_from_viewers":true
    }
   }
  },
  {
   "cell_type":"markdown",
   "source":[
    "2)Oh no! We got a `SyntaxError`! This happens when we make a small error in the syntax of the conditional statement.\n",
    "\n",
    "Read through the error message carefully and see if you can find the error. Then, fix it, and run the code again."
   ],
   "attachments":{
    
   },
   "metadata":{
    "datalore":{
     "node_id":"lRA7UCkvYRX0rPkiuygKTa",
     "type":"MD",
     "hide_input_from_viewers":true,
     "hide_output_from_viewers":true
    }
   }
  },
  {
   "cell_type":"markdown",
   "source":[
    "3)Ugh! Dave got around my security and has been logging onto my computer using our coworker Angela’s user name, `angela_catlady_87`.\n",
    "\n",
    "Set your `user_name` to be `angela_catlady_87`.\n",
    "\n",
    "Update the program with a second `if` statement so it checks for Angela’s user name as well and prints\n",
    "\n",
    "    \"I know it is you, Dave! Go away!\"\n",
    "\n",
    "in response. That’ll teach him!"
   ],
   "attachments":{
    
   },
   "metadata":{
    "datalore":{
     "node_id":"WnbT8mzLgfNhFs5hoXKTuL",
     "type":"MD",
     "hide_input_from_viewers":true,
     "hide_output_from_viewers":true
    }
   }
  },
  {
   "cell_type":"code",
   "source":[
    "# Enter a user name here, make sure to make it a string\n",
    "user_name = \n",
    "\n",
    "if user_name = \"Dave\":\n",
    "  print(\"Get off my computer Dave!\")"
   ],
   "execution_count":4,
   "outputs":[
    {
     "ename":"SyntaxError",
     "evalue":"SyntaxError: invalid syntax",
     "traceback":[
      "\u001b[0;31m---------------------------------------------------------------------------",
      "Traceback (most recent call last)",
      "SyntaxError: invalid syntax"
     ],
     "output_type":"error"
    }
   ],
   "metadata":{
    "datalore":{
     "node_id":"Szh3sP9tpz8Pw6bcLcb4Fx",
     "type":"CODE",
     "hide_input_from_viewers":true,
     "hide_output_from_viewers":true
    }
   }
  },
  {
   "cell_type":"code",
   "source":[
    "# Enter a user name here, make sure to make it a string\n",
    "user_name = \"angela_catlady_87\"\n",
    "\n",
    "if user_name == \"Dave\":\n",
    "  print(\"Get off my computer, Dave!\")\n",
    "\n",
    "if user_name == \"angela_catlady_87\":\n",
    "  print(\"I know it is you, Dave! Go away!\")"
   ],
   "execution_count":null,
   "outputs":[
    
   ],
   "metadata":{
    "datalore":{
     "node_id":"bcZ4isB9Pu12bnMVRKKJiC",
     "type":"CODE",
     "hide_input_from_viewers":true,
     "hide_output_from_viewers":true
    }
   }
  },
  {
   "cell_type":"markdown",
   "source":[
    "<h1 style='text-align: center;'> Relational Operators II <\/h1>\n",
    "\n",
    "Now that we’ve added conditional statements to our toolkit for building control flow, let’s explore more ways to create boolean expressions. So far we know two relational [operators](https:\/\/www.codecademy.com\/resources\/docs\/python\/operators?page_req=catalog), equals and not equals, but there are a ton (well, four) more:\n",
    "\n",
    "- `>` greater than\n",
    "  \n",
    "- `>=` greater than or equal to\n",
    "  \n",
    "- `<` less than\n",
    "  \n",
    "- `<=` less than or equal to\n",
    "\n",
    "Let’s say we’re running a movie streaming platform and we want to write a program that checks if our users are over 13 when showing them a PG-13 movie. We could write something like:\n",
    "\n",
    "    if age <= 13:\n",
    "        print(\"Sorry, parental control required\")\n",
    "This function will take the user’s age and compare it to the number 13. If `age` is less than or equal to 13, it will print out a message.\n",
    "\n",
    "Let’s try some more!"
   ],
   "attachments":{
    
   },
   "metadata":{
    "datalore":{
     "node_id":"PCN5RtpXOf2RnQPzxvUNsS",
     "type":"MD",
     "hide_input_from_viewers":true,
     "hide_output_from_viewers":true
    }
   }
  },
  {
   "cell_type":"markdown",
   "source":[
    "<ins>**Instructions**<ins>\n",
    "\n",
    "1)Create an `if` statement that checks if `x` and `y` are equal, print the string below if so:\n",
    "\n",
    "    \"These numbers are the same\""
   ],
   "attachments":{
    
   },
   "metadata":{
    "datalore":{
     "node_id":"fnXYlAwDAScmSSDBphVbvi",
     "type":"MD",
     "hide_input_from_viewers":true,
     "hide_output_from_viewers":true
    }
   }
  },
  {
   "cell_type":"markdown",
   "source":[
    "2)The nearby college, *Calvin Coolidge’s Cool College* (or 4C, as the locals call it) requires students to earn 120 credits to graduate.\n",
    "\n",
    "Write an `if` statement that checks if the student has enough credits to graduate. If they do, print the string:\n",
    "\n",
    "    \"You have enough credits to graduate!\"\n",
    "\n",
    "Can a student with 120 `credits` graduate from *Calvin Coolidge’s Cool College*?"
   ],
   "attachments":{
    
   },
   "metadata":{
    "datalore":{
     "node_id":"m8EIex3biZKSlZhn32gz0m",
     "type":"MD",
     "hide_input_from_viewers":true,
     "hide_output_from_viewers":true
    }
   }
  },
  {
   "cell_type":"code",
   "source":[
    "x = 20\n",
    "y = 20\n",
    "\n",
    "# Write the first if statement here:\n",
    "\n",
    "\n",
    "\n",
    "credits = 120\n",
    "\n",
    "# Write the second if statement here:"
   ],
   "execution_count":null,
   "outputs":[
    
   ],
   "metadata":{
    "datalore":{
     "node_id":"S1E4eoaERB1nl6d4eJqi5f",
     "type":"CODE",
     "hide_input_from_viewers":true,
     "hide_output_from_viewers":true
    }
   }
  },
  {
   "cell_type":"code",
   "source":[
    "x = 20\n",
    "y = 20\n",
    "\n",
    "# Write the first if statement here:\n",
    "\n",
    "if x == y:\n",
    "  print(\"These numbers are the same\")\n",
    "\n",
    "credits = 120\n",
    "\n",
    "# Write the second if statement here:\n",
    "\n",
    "if credits >= 120:\n",
    "  print(\"You have enough credits to graduate!\")"
   ],
   "execution_count":null,
   "outputs":[
    
   ],
   "metadata":{
    "datalore":{
     "node_id":"sIGmHTs8oxbmwvWzhvgKdZ",
     "type":"CODE",
     "hide_input_from_viewers":true,
     "hide_output_from_viewers":true
    }
   }
  },
  {
   "cell_type":"markdown",
   "source":[
    "<h1 style='text-align: center;'> Boolean Operators: and <\/h1>\n",
    "\n",
    "Often, the conditions you want to check in your conditional statement will require more than one boolean expression to cover. In these cases, you can build larger boolean expressions using boolean operators. These operators (also known as *logical operators*) combine smaller boolean expressions into larger boolean expressions.\n",
    "\n",
    "There are three boolean operators that we will cover:\n",
    "\n",
    "- `and`\n",
    "  \n",
    "- `or`\n",
    "  \n",
    "- `not`\n",
    "\n",
    "Let’s start with `and`.\n",
    "\n",
    "`and` combines two boolean expressions and evaluates as `True` if both its components are `True`, but `False` otherwise.\n",
    "\n",
    "Consider the example:\n",
    "\n",
    "    Oranges are a fruit and carrots are a vegetable.\n",
    "\n",
    "This boolean expression is comprised of two smaller expressions, `oranges are a fruit` and `carrots are a vegetable`, both of which are `True` and connected by the boolean operator `and`, so the entire expression is `True`.\n",
    "\n",
    "Let’s look at an example of some AND statements in Python:\n",
    "\n",
    "`(1 + 1 == 2) and (2 + 2 == 4)   # True`\n",
    " \n",
    "`(1 > 9) and (5 != 6)            # False`\n",
    " \n",
    "`(1 + 1 == 2) and (2 < 1)        # False`\n",
    " \n",
    "`(0 == 10) and (1 + 1 == 1)      # False`\n",
    "\n",
    "Notice that in the second and third examples, even though part of the expression is `True`, the entire expression as a whole is `False` because the other statement is False. The fourth statement is also `False` because both components are `False`."
   ],
   "attachments":{
    
   },
   "metadata":{
    "datalore":{
     "node_id":"lTiuQOCVhyImECiIl5CeLb",
     "type":"MD",
     "hide_input_from_viewers":true,
     "hide_output_from_viewers":true
    }
   }
  },
  {
   "cell_type":"markdown",
   "source":[
    "<ins>**Instructions**<ins>\n",
    "\n",
    "1)Set the variables `statement_one` and `statement_two` equal to the results of the following boolean expressions:\n",
    "\n",
    "Statement one:\n",
    "\n",
    "    (2 + 2 + 2 >= 6) and (-1 * -1 < 0)\n",
    "\n",
    "Statement two:\n",
    "\n",
    "    (4 * 2 <= 8) and (7 - 1 == 6)"
   ],
   "attachments":{
    
   },
   "metadata":{
    "datalore":{
     "node_id":"SIYgGquGSPLAwQxJg8nrJ7",
     "type":"MD",
     "hide_input_from_viewers":true,
     "hide_output_from_viewers":true
    }
   }
  },
  {
   "cell_type":"markdown",
   "source":[
    "2)Let’s return to *Calvin Coolidge’s Cool College*. 120 credits aren’t the only graduation requirement, you also need to have a GPA of 2.0 or higher.\n",
    "\n",
    "Rewrite the `if` statement so that it checks to see if a student meets both requirements using an `and` statement.\n",
    "\n",
    "If they do, print the string:\n",
    "\n",
    "    \"You meet the requirements to graduate!\""
   ],
   "attachments":{
    
   },
   "metadata":{
    "datalore":{
     "node_id":"B2GttC2FyYCmvX9HYpMq9o",
     "type":"MD",
     "hide_input_from_viewers":true,
     "hide_output_from_viewers":true
    }
   }
  },
  {
   "cell_type":"code",
   "source":[
    "statement_one = \n",
    "\n",
    "statement_two = \n",
    "\n",
    "credits = 120\n",
    "gpa = 3.4\n",
    "\n",
    "if credits >= 120:\n",
    "  print(\"You meet the requirements to graduate!\")"
   ],
   "execution_count":null,
   "outputs":[
    
   ],
   "metadata":{
    "datalore":{
     "node_id":"W99wx0CpL1IFsERjQPxSsV",
     "type":"CODE",
     "hide_input_from_viewers":true,
     "hide_output_from_viewers":true
    }
   }
  },
  {
   "cell_type":"code",
   "source":[
    "statement_one = False\n",
    "\n",
    "statement_two = True\n",
    "\n",
    "credits = 120\n",
    "gpa = 3.4\n",
    "\n",
    "if gpa >= 2.0 and credits >= 120:\n",
    "  print(\"You meet the requirements to graduate!\")"
   ],
   "execution_count":null,
   "outputs":[
    
   ],
   "metadata":{
    "datalore":{
     "node_id":"pBeQ8sA8z3U6ZxuMnFHxtc",
     "type":"CODE",
     "hide_input_from_viewers":true,
     "hide_output_from_viewers":true
    }
   }
  },
  {
   "cell_type":"markdown",
   "source":[
    "<h1 style='text-align: center;'> Boolean Operators: or <\/h1>\n",
    "\n",
    "The boolean operator `or` combines two expressions into a larger expression that is `True` if either component is `True`.\n",
    "\n",
    "Consider the statement\n",
    "\n",
    "    Oranges are a fruit or apples are a vegetable.\n",
    "\n",
    "This statement is composed of two expressions: `oranges are a fruit` which is `True` and `apples are a vegetable` which is `False`. Because the two expressions are connected by the `or` operator, the entire statement is `True`. Only one component needs to be `True` for an `or` statement to be `True`.\n",
    "\n",
    "In English, `or` implies that if one component is `True`, then the other component must be `False`. This is not true in Python. If an `or` statement has two `True` components, it is also `True`.\n",
    "\n",
    "Let’s take a look at a couple of examples in Python:\n",
    "\n",
    "`True or (3 + 4 == 7)    # True`\n",
    "\n",
    "`(1 - 1 == 0) or False   # True`\n",
    "\n",
    "`(2 < 0) or True         # True`\n",
    "\n",
    "`(3 == 8) or (3 > 4)     # False`\n",
    "\n",
    "Notice that each `or` statement that has at least one `True` component is `True`, but the final statement has two `False` components, so it is `False`."
   ],
   "attachments":{
    
   },
   "metadata":{
    "datalore":{
     "node_id":"VFyVi1jy464uQnMrB5caah",
     "type":"MD",
     "hide_input_from_viewers":true,
     "hide_output_from_viewers":true
    }
   }
  },
  {
   "cell_type":"markdown",
   "source":[
    "<ins>**Instructions**<ins>\n",
    "\n",
    "1)Set the variables `statement_one` and statement_two `equal` to the results of the following boolean expressions:\n",
    "\n",
    "Statement one:\n",
    "\n",
    "    (2 - 1 > 3) or (-5 * 2 == -10)\n",
    "\n",
    "Statement two:\n",
    "\n",
    "    (9 + 5 <= 15) or (7 != 4 + 3)"
   ],
   "attachments":{
    
   },
   "metadata":{
    "datalore":{
     "node_id":"ClMlrwAPv6OmaMIo6wvsQW",
     "type":"MD",
     "hide_input_from_viewers":true,
     "hide_output_from_viewers":true
    }
   }
  },
  {
   "cell_type":"markdown",
   "source":[
    "2)The registrar’s office at *Calvin Coolidge’s Cool College* has another request. They want to send out a mailer with information on the commencement ceremonies to students who have met at least one requirement for graduation (120 credits and 2.0 GPA).\n",
    "\n",
    "Write an `if` statement that checks if a student either has 120 or more credits or a GPA 2.0 or higher, and if so prints:\n",
    "\n",
    "    \"You have met at least one of the requirements.\""
   ],
   "attachments":{
    
   },
   "metadata":{
    "datalore":{
     "node_id":"UsnLTGuylna5QtnuBKUX9e",
     "type":"MD",
     "hide_input_from_viewers":true,
     "hide_output_from_viewers":true
    }
   }
  },
  {
   "cell_type":"code",
   "source":[
    "statement_one = \n",
    "\n",
    "statement_two = \n",
    "\n",
    "credits = 118\n",
    "\n",
    "gpa = 2.0"
   ],
   "execution_count":null,
   "outputs":[
    
   ],
   "metadata":{
    "datalore":{
     "node_id":"Fy3ur9JcsonMBpF20yoUac",
     "type":"CODE",
     "hide_input_from_viewers":true,
     "hide_output_from_viewers":true
    }
   }
  },
  {
   "cell_type":"code",
   "source":[
    "statement_one = True\n",
    "\n",
    "statement_two = True\n",
    "\n",
    "credits = 118\n",
    "\n",
    "gpa = 2.0\n",
    "\n",
    "if credits >= 120 or gpa >= 2.0:\n",
    "  print(\"You have met at least one of the requirements.\")"
   ],
   "execution_count":null,
   "outputs":[
    
   ],
   "metadata":{
    "datalore":{
     "node_id":"P0oSJ4h4osxdJoVFhM90xU",
     "type":"CODE",
     "hide_input_from_viewers":true,
     "hide_output_from_viewers":true
    }
   }
  },
  {
   "cell_type":"markdown",
   "source":[
    "<h1 style='text-align: center;'> Boolean Operators: not <\/h1>\n",
    "\n",
    "The final boolean operator we will cover is `not`. This operator is straightforward: when applied to any boolean expression it reverses the boolean value. So if we have a `True` statement and apply a `not` operator we get a `False` statement.\n",
    "\n",
    "`not True == False`\n",
    "\n",
    "`not False == True`\n",
    "\n",
    "Consider the following statement:\n",
    "\n",
    "`Oranges are not a fruit.`\n",
    "\n",
    "Here, we took the `True` statement `oranges are a fruit` and added a `not` operator to make the `False` statement `oranges are not a fruit`.\n",
    "\n",
    "This example in English is slightly different from the way it would appear in Python because in Python we add the `not` operator to the very beginning of the statement. Let’s take a look at some of those:\n",
    "\n",
    "`not 1 + 1 == 2  # False`\n",
    "\n",
    "`not 7 < 0       # True`"
   ],
   "attachments":{
    
   },
   "metadata":{
    "datalore":{
     "node_id":"quK5asOle6ztCjEaca9ebA",
     "type":"MD",
     "hide_input_from_viewers":true,
     "hide_output_from_viewers":true
    }
   }
  },
  {
   "cell_type":"markdown",
   "source":[
    "<ins>**Instructions**<ins>\n",
    "\n",
    "1)Set the variables `statement_one` and `statement_two` equal to the results of the following boolean expressions:\n",
    "\n",
    "Statement one:\n",
    "\n",
    "    not (4 + 5 <= 9)\n",
    "\n",
    "Statement two:\n",
    "\n",
    "    not (8 * 2) != 20 - 4"
   ],
   "attachments":{
    
   },
   "metadata":{
    "datalore":{
     "node_id":"4ZJDjpwAGx3HGwyzisPqn0",
     "type":"MD",
     "hide_input_from_viewers":true,
     "hide_output_from_viewers":true
    }
   }
  },
  {
   "cell_type":"markdown",
   "source":[
    "2)The registrar’s office at *Calvin Coolidge’s Cool College* has been so impressed with your work so far that they have another task for you.\n",
    "\n",
    "They want you to return to a previous `if` statement and add in several checks using `and` and `not` statements:\n",
    "\n",
    "- If a student’s `credits` is not greater or equal to 120, it should print:\n",
    "\n",
    "    `\"You do not have enough credits to graduate.\"`\n",
    "\n",
    "- If their `gpa` is not greater or equal to 2.0, it should print:\n",
    "\n",
    "    `\"Your GPA is not high enough to graduate.\"`\n",
    "\n",
    "- If their `credits` is not greater than or equal to 120 and their `gpa` is not greater than or equal to 2.0, it should print:\n",
    "\n",
    "    `\"You do not meet either requirement to graduate!\"`\n",
    "\n",
    "Make sure your return value matches those strings exactly. Capitalization, punctuation, and spaces matter!"
   ],
   "attachments":{
    
   },
   "metadata":{
    "datalore":{
     "node_id":"goSwYglO27eqiVTH41L7kl",
     "type":"MD",
     "hide_input_from_viewers":true,
     "hide_output_from_viewers":true
    }
   }
  },
  {
   "cell_type":"code",
   "source":[
    "statement_one = \n",
    "\n",
    "statement_two = \n",
    "\n",
    "credits = 120\n",
    "\n",
    "gpa = 1.8"
   ],
   "execution_count":null,
   "outputs":[
    
   ],
   "metadata":{
    "datalore":{
     "node_id":"2I7U3Pp0kyuj4ez57C2bBI",
     "type":"CODE",
     "hide_input_from_viewers":true,
     "hide_output_from_viewers":true
    }
   }
  },
  {
   "cell_type":"code",
   "source":[
    "statement_one = False\n",
    "\n",
    "statement_two = True\n",
    "\n",
    "credits = 120\n",
    "\n",
    "gpa = 1.8\n",
    "\n",
    "if not credits >= 120:\n",
    "  print(\"You do not have enough credits to graduate.\")\n",
    "\n",
    "if not gpa >= 2.0:\n",
    "  print(\"Your GPA is not high enough to graduate.\")\n",
    "\n",
    "if not (credits >= 120) and not (gpa >= 2.0):\n",
    "  print(\"You do not meet either requirement to graduate!\")"
   ],
   "execution_count":null,
   "outputs":[
    
   ],
   "metadata":{
    "datalore":{
     "node_id":"NBl2bqEFZLH59Pojw8GknU",
     "type":"CODE",
     "hide_input_from_viewers":true,
     "hide_output_from_viewers":true
    }
   }
  },
  {
   "cell_type":"markdown",
   "source":[
    "<h1 style='text-align: center;'> Else Statements <\/h1>\n",
    "\n",
    "As you can tell from your work with *Calvin Coolidge’s Cool College*, once you start including lots of `if` statements in a function the code becomes a little cluttered and clunky. Luckily, there are other tools we can use to build control flow.\n",
    "\n",
    "`else` statements allow us to elegantly describe what we want our code to do when certain conditions are **not** met.\n",
    "\n",
    "`else` statements always appear in conjunction with `if` statements. Consider our waking-up example to see how this works:\n",
    "\n",
    "    if weekday:\n",
    "        print(\"wake up at 6:30\")\n",
    "    else:\n",
    "        print(\"sleep in\")\n",
    "\n",
    "In this way, we can build if statements that execute different code if conditions are or are not met. This prevents us from needing to write `if` statements for each possible condition, we can instead write a blanket `else` statement for all the times the condition is not met.\n",
    "\n",
    "Let’s return to our `if` statement for our movie streaming platform. Previously, all it did was check if the user’s age was over `13` and if so, print out a message. We can use an `else` statement to return a message in the event the user is too young to watch the movie.\n",
    "\n",
    "    if age >= 13:\n",
    "        print(\"Access granted.\")\n",
    "    else:\n",
    "        print(\"Sorry, you must be 13 or older to watch this movie.\")"
   ],
   "attachments":{
    
   },
   "metadata":{
    "datalore":{
     "node_id":"zcgQqM2l8zNrQ6wvzgExlC",
     "type":"MD",
     "hide_input_from_viewers":true,
     "hide_output_from_viewers":true
    }
   }
  },
  {
   "cell_type":"markdown",
   "source":[
    "<ins>**Instructions**<ins>\n",
    "\n",
    "1)*Calvin Coolidge’s Cool College* has another request for you. They want you to add an additional check to a previous `if` statement. If a student is failing to meet one or both graduation requirements, they want it to print:\n",
    "\n",
    "`\"You do not meet the requirements to graduate.\"`\n",
    "\n",
    "Add an `else` statement to the existing `if` statement."
   ],
   "attachments":{
    
   },
   "metadata":{
    "datalore":{
     "node_id":"ucOmzraitM0nsoZO1xknSK",
     "type":"MD",
     "hide_input_from_viewers":true,
     "hide_output_from_viewers":true
    }
   }
  },
  {
   "cell_type":"code",
   "source":[
    "credits = 120\n",
    "\n",
    "gpa = 1.9\n",
    "\n",
    "if (credits >= 120) and (gpa >= 2.0):\n",
    "  print(\"You meet the requirements to graduate!\")"
   ],
   "execution_count":null,
   "outputs":[
    
   ],
   "metadata":{
    "datalore":{
     "node_id":"XNLC5Xiak63YsbohdmEjP1",
     "type":"CODE",
     "hide_input_from_viewers":true,
     "hide_output_from_viewers":true
    }
   }
  },
  {
   "cell_type":"code",
   "source":[
    "credits = 120\n",
    "\n",
    "gpa = 1.9\n",
    "\n",
    "if (credits >= 120) and (gpa >= 2.0):\n",
    "  print(\"You meet the requirements to graduate!\")\n",
    "else:\n",
    "  print(\"You do not meet the requirements to graduate.\")"
   ],
   "execution_count":null,
   "outputs":[
    
   ],
   "metadata":{
    "datalore":{
     "node_id":"kH5pYJFPhE1ywhAnP43HUb",
     "type":"CODE",
     "hide_input_from_viewers":true,
     "hide_output_from_viewers":true
    }
   }
  },
  {
   "cell_type":"markdown",
   "source":[
    "<h1 style='text-align: center;'> Else If Statements <\/h1>\n",
    "\n",
    "We have `if` statements, we have `else` statements, we can also have `elif` statements.\n",
    "\n",
    "Now you may be asking yourself, what the heck is an `elif` statement? It’s exactly what it sounds like, “else if”. An `elif` statement checks another condition after the previous if statements conditions aren’t met.\n",
    "\n",
    "We can use `elif` statements to control the order we want our program to check each of our conditional statements. First, the `if` statement is checked, then each `elif` statement is checked from top to bottom, then finally the `else` code is executed if none of the previous conditions have been met.\n",
    "\n",
    "Let’s take a look at this in practice. The following `if` statement will display a “thank you” message after someone donates to a charity; there will be a curated message based on how much was donated.\n",
    "\n",
    "    print(\"Thank you for the donation!\")\n",
    "    \n",
    "    if donation >= 1000:\n",
    "        print(\"You've achieved platinum status\")\n",
    "    elif donation >= 500:\n",
    "        print(\"You've achieved gold donor status\")\n",
    "    elif donation >= 100:\n",
    "        print(\"You've achieved silver donor status\")\n",
    "    else:\n",
    "        print(\"You've achieved bronze donor status\")\n",
    "\n",
    "Take a second to think about this function. What would happen if all of the `elif` statements were simply `if` statements? If you donated `$1100.00`, then the first three messages would all print because each `if` condition had been met.\n",
    "\n",
    "But because we used `elif` statements, it checks each condition sequentially and only prints one message. If I donate `$600.00`, the code first checks if that is over 1000, which it is not, then it checks if it’s over 500, which it is, so it prints that message, then because all of the other statements are `elif` and `else`, none of them get checked and no more messages get printed.\n",
    "\n",
    "Try your hand at some other `elif` statements."
   ],
   "attachments":{
    
   },
   "metadata":{
    "datalore":{
     "node_id":"oTbrNE6Xs3M1WOLHDMyTKi",
     "type":"MD",
     "hide_input_from_viewers":true,
     "hide_output_from_viewers":true
    }
   }
  },
  {
   "cell_type":"markdown",
   "source":[
    "<ins>**Instructions**<ins>\n",
    "\n",
    "1)*Calvin Coolidge’s Cool College* has noticed that students prefer to get letter grades.\n",
    "\n",
    "Write an `if`\/`elif`\/`else` statement that:\n",
    "\n",
    "- If grade is 90 or higher, print \"A\"\n",
    "  \n",
    "- Else if `grade` is 80 or higher, print `\"B\"`\n",
    "  \n",
    "- Else if `grade` is 70 or higher, print `\"C\"`\n",
    "  \n",
    "- Else if `grade` is 60 or higher, print `\"D\"`\n",
    "  \n",
    "- Else, print `\"F\"`"
   ],
   "attachments":{
    
   },
   "metadata":{
    "datalore":{
     "node_id":"rKDXHGaXmt9q5YildHOwTY",
     "type":"MD",
     "hide_input_from_viewers":true,
     "hide_output_from_viewers":true
    }
   }
  },
  {
   "cell_type":"code",
   "source":[
    "grade = 86\n"
   ],
   "execution_count":null,
   "outputs":[
    
   ],
   "metadata":{
    "datalore":{
     "node_id":"qsj3AolHCnuqz0psf5B4gC",
     "type":"CODE",
     "hide_input_from_viewers":true,
     "hide_output_from_viewers":true
    }
   }
  },
  {
   "cell_type":"code",
   "source":[
    "grade = 86\n",
    "\n",
    "if grade >= 90:\n",
    "  print(\"A\")\n",
    "elif grade >= 80:\n",
    "  print(\"B\")\n",
    "elif grade >= 70:\n",
    "  print(\"C\")\n",
    "elif grade >= 60:\n",
    "  print(\"D\")\n",
    "else:\n",
    "  print(\"F\")"
   ],
   "execution_count":null,
   "outputs":[
    
   ],
   "metadata":{
    "datalore":{
     "node_id":"V6mtuD7FYbQYVcGzLiL92c",
     "type":"CODE",
     "hide_input_from_viewers":true,
     "hide_output_from_viewers":true
    }
   }
  },
  {
   "cell_type":"markdown",
   "source":[
    "<h1 style='text-align: center;'> Review <\/h1>\n",
    "\n",
    "Great job! We covered a ton of material in this lesson and we’ve increased the number of tools in our Python toolkit by several-fold. Let’s review what we’ve learned this lesson:\n",
    "\n",
    "- Boolean expressions are statements that can be either `True` or `False`.\n",
    "  \n",
    "- A boolean variable is a variable that is set to either `True` or `False`.\n",
    "  \n",
    "- We can create boolean expressions using relational operators:\n",
    "\n",
    "- `==`: Equals\n",
    "- `!=`: Not equals\n",
    "- `>`: Greater than\n",
    "- `>=`: Greater than or equal to\n",
    "- `<`: Less than\n",
    "- `<=`: Less than or equal to\n",
    "- `if` statements can be used to create control flow in your code.\n",
    "- `else` statements can be used to execute code when the conditions of an `if` statement are not met.\n",
    "- `elif` statements can be used to build additional checks into your `if` statements\n",
    "\n",
    "Let’s put these skills to the test!"
   ],
   "attachments":{
    
   },
   "metadata":{
    "datalore":{
     "node_id":"h05vkzpvQQE2LGu3KgXV1K",
     "type":"MD",
     "hide_input_from_viewers":true,
     "hide_output_from_viewers":true
    }
   }
  },
  {
   "cell_type":"markdown",
   "source":[
    "<ins>**Instructions**<ins>\n",
    "\n",
    "1)Optional: Little Codey is an interplanetary space boxer, who is trying to win championship belts for various weight categories on other planets within the solar system.\n",
    "\n",
    "Write a  program that helps Codey keep track of their target weight by:\n",
    "\n",
    "- Checks which number `planet` is equal to.\n",
    "  \n",
    "- It should then compute their weight on the destination planet.\n",
    "\n",
    "Here is the table of conversions:\n",
    "\n",
    "    #\tPlanet\tRelative Gravity\n",
    "    1\tVenus\t0.91\n",
    "    2\tMars\t0.38\n",
    "    3\tJupiter\t2.34\n",
    "    4\tSaturn\t1.06\n",
    "    5\tUranus\t0.92\n",
    "    6\tNeptune\t1.19"
   ],
   "attachments":{
    
   },
   "metadata":{
    "datalore":{
     "node_id":"XSk94dJQanRm2KQDcArzBC",
     "type":"MD",
     "hide_input_from_viewers":true,
     "hide_output_from_viewers":true
    }
   }
  },
  {
   "cell_type":"code",
   "source":[
    "print(\"I have information for the following planets:\\n\")\n",
    "\n",
    "print(\"   1. Venus   2. Mars    3. Jupiter\")\n",
    "print(\"   4. Saturn  5. Uranus  6. Neptune\\n\")\n",
    " \n",
    "weight = 185\n",
    "planet = 3\n",
    "\n",
    "# Write an if statement below:\n"
   ],
   "execution_count":null,
   "outputs":[
    
   ],
   "metadata":{
    "datalore":{
     "node_id":"gj0mXpJw87fRZQe3GmPIW7",
     "type":"CODE",
     "hide_input_from_viewers":true,
     "hide_output_from_viewers":true
    }
   }
  },
  {
   "cell_type":"code",
   "source":[
    "print(\"I have information for the following planets:\\n\")\n",
    "\n",
    "print(\"   1. Venus   2. Mars    3. Jupiter\")\n",
    "print(\"   4. Saturn  5. Uranus  6. Neptune\\n\")\n",
    " \n",
    "weight = 185\n",
    "planet = 3\n",
    "\n",
    "# Write an if statement below:\n",
    "\n",
    "if planet == 1:\n",
    "  weight = weight * 0.91\n",
    "elif planet == 2:\n",
    "  weight = weight * 0.38\n",
    "elif planet == 3:\n",
    "  weight = weight * 2.34\n",
    "elif planet == 4:\n",
    "  weight = weight * 1.06\n",
    "elif planet == 5:\n",
    "  weight = weight * 0.92\n",
    "elif planet == 6:\n",
    "  weight = weight * 1.19\n",
    "\n",
    "print(\"Your weight:\", weight)"
   ],
   "execution_count":null,
   "outputs":[
    
   ],
   "metadata":{
    "datalore":{
     "node_id":"VM0STdlYssThW24r6SjyGB",
     "type":"CODE",
     "hide_input_from_viewers":true,
     "hide_output_from_viewers":true
    }
   }
  },
  {
   "cell_type":"markdown",
   "source":[
    "1) [cheatsheet](https:\/\/www.codecademy.com\/learn\/paths\/data-engineer\/tracks\/decp-python-fundamentals-for-data-engineers\/modules\/learn-python3-control-flow\/cheatsheet)\n",
    "2) [quiz](https:\/\/github.com\/Ahmad-Amiraslanli\/python_lessons\/blob\/main\/lesson2_control_flow\/lesson2_control_flow_quiz.pdf)"
   ],
   "attachments":{
    
   },
   "metadata":{
    "datalore":{
     "node_id":"zOgrZThvP1WcnwbtsfJ1Xo",
     "type":"MD",
     "hide_input_from_viewers":true,
     "hide_output_from_viewers":true
    }
   }
  }
 ],
 "metadata":{
  "kernelspec":{
   "display_name":"Python",
   "language":"python",
   "name":"python"
  },
  "datalore":{
   "computation_mode":"JUPYTER",
   "package_manager":"pip",
   "base_environment":"default",
   "packages":[
    
   ],
   "report_row_ids":[
    
   ],
   "version":3
  }
 },
 "nbformat":4,
 "nbformat_minor":4
}